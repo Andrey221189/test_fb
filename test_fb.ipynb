{
 "cells": [
  {
   "cell_type": "code",
   "execution_count": 1,
   "id": "ddea77f1",
   "metadata": {},
   "outputs": [],
   "source": [
    "import pandas as pd\n",
    "import numpy as np\n",
    "import seaborn as sns\n",
    "import matplotlib.pyplot as plt\n",
    "import seaborn as sns\n",
    "from matplotlib import rcParams\n",
    "import math as mth\n",
    "from scipy import stats as st\n",
    "import matplotlib.pyplot as plt\n",
    "\n",
    "import pandas as pd\n",
    "import pandasql as ps\n",
    "from pandasql import sqldf\n",
    "from sklearn.model_selection import GridSearchCV\n",
    "\n",
    "import pandas as pd\n",
    "import seaborn as sns\n",
    "from sklearn.preprocessing import StandardScaler\n",
    "from sklearn.model_selection import train_test_split\n",
    "from sklearn.linear_model import Lasso, Ridge,LogisticRegression\n",
    "from sklearn.tree import DecisionTreeClassifier\n",
    "from sklearn.ensemble import RandomForestClassifier\n",
    "from sklearn.ensemble import ExtraTreesClassifier\n",
    "from sklearn.tree import DecisionTreeClassifier\n",
    "from sklearn.ensemble import GradientBoostingClassifier\n",
    "import matplotlib.pyplot as plt\n",
    "from sklearn.metrics import mean_absolute_error, mean_squared_error, r2_score\n",
    "\n",
    "import warnings\n",
    "warnings.filterwarnings('ignore')\n",
    "\n",
    "import numpy as np\n",
    "import pandas as pd\n",
    "import matplotlib.pyplot as plt\n",
    "from matplotlib import pyplot as plt\n",
    "import seaborn as sns\n",
    "from IPython.display import display\n",
    "import scipy.stats as stats\n",
    "import datetime as dt\n",
    "\n",
    "from sklearn import metrics\n",
    "\n",
    "from sklearn.preprocessing import StandardScaler\n",
    "from sklearn.model_selection import train_test_split\n",
    "\n",
    "from sklearn.linear_model import Lasso, Ridge\n",
    "from sklearn.tree import DecisionTreeRegressor\n",
    "from sklearn.ensemble import RandomForestRegressor, GradientBoostingRegressor\n",
    "#from sklearn.metrics import mean_absolute_error, mean_squared_error, r2_score, roc_auc_score,accuracy_score, \n",
    "\n",
    "\n",
    "\n",
    "from sklearn.linear_model import LogisticRegression\n",
    "from sklearn.metrics import confusion_matrix, accuracy_score, precision_score, recall_score, silhouette_score\n",
    "from sklearn.ensemble import RandomForestClassifier\n",
    "from scipy.cluster.hierarchy import dendrogram, linkage\n",
    "from sklearn.cluster import KMeans\n",
    "from sklearn.metrics import accuracy_score, precision_score, recall_score, f1_score,roc_auc_score\n",
    "\n",
    "# размер графиков\n",
    "rcParams['figure.figsize'] = 5,5"
   ]
  },
  {
   "cell_type": "code",
   "execution_count": 2,
   "id": "e97bd00f",
   "metadata": {},
   "outputs": [],
   "source": [
    "import pickle\n",
    "\n",
    "\n",
    "with open('train.pkl', 'rb') as f:\n",
    "    df_t = pickle.load(f)"
   ]
  },
  {
   "cell_type": "code",
   "execution_count": 3,
   "id": "c5e49bd3",
   "metadata": {},
   "outputs": [],
   "source": [
    "import pickle\n",
    "\n",
    "\n",
    "with open('test.pkl', 'rb') as f:\n",
    "    df_test = pickle.load(f)"
   ]
  },
  {
   "cell_type": "code",
   "execution_count": 4,
   "id": "70e05d20",
   "metadata": {},
   "outputs": [],
   "source": [
    "df_test['target'] = 2"
   ]
  },
  {
   "cell_type": "code",
   "execution_count": 5,
   "id": "80b34a90",
   "metadata": {},
   "outputs": [],
   "source": [
    "df = pd.concat([df_t,df_test], ignore_index= True)# обеденим для удобства тест и трейн"
   ]
  },
  {
   "cell_type": "code",
   "execution_count": 6,
   "id": "76513a85",
   "metadata": {},
   "outputs": [
    {
     "data": {
      "text/plain": [
       "(90203, 191)"
      ]
     },
     "execution_count": 6,
     "metadata": {},
     "output_type": "execute_result"
    }
   ],
   "source": [
    "df_test.shape"
   ]
  },
  {
   "cell_type": "code",
   "execution_count": 7,
   "id": "14dfa7a0",
   "metadata": {},
   "outputs": [
    {
     "data": {
      "text/plain": [
       "(458913, 191)"
      ]
     },
     "execution_count": 7,
     "metadata": {},
     "output_type": "execute_result"
    }
   ],
   "source": [
    "df.shape"
   ]
  },
  {
   "cell_type": "code",
   "execution_count": 8,
   "id": "3a5806bd",
   "metadata": {},
   "outputs": [
    {
     "data": {
      "text/plain": [
       "458913"
      ]
     },
     "execution_count": 8,
     "metadata": {},
     "output_type": "execute_result"
    }
   ],
   "source": [
    "df['customer_ID'].nunique()"
   ]
  },
  {
   "cell_type": "code",
   "execution_count": 9,
   "id": "572c05d9",
   "metadata": {},
   "outputs": [
    {
     "data": {
      "text/plain": [
       "RangeIndex(start=0, stop=458913, step=1)"
      ]
     },
     "execution_count": 9,
     "metadata": {},
     "output_type": "execute_result"
    }
   ],
   "source": [
    "df.index"
   ]
  },
  {
   "cell_type": "code",
   "execution_count": 10,
   "id": "1ab4c29b",
   "metadata": {},
   "outputs": [],
   "source": [
    "df['nn'] = df.index"
   ]
  },
  {
   "cell_type": "code",
   "execution_count": 11,
   "id": "11e9ed44",
   "metadata": {},
   "outputs": [],
   "source": [
    "df_cus = df[['customer_ID','target','nn']]"
   ]
  },
  {
   "cell_type": "code",
   "execution_count": 12,
   "id": "f5156552",
   "metadata": {},
   "outputs": [
    {
     "data": {
      "text/html": [
       "<div>\n",
       "<style scoped>\n",
       "    .dataframe tbody tr th:only-of-type {\n",
       "        vertical-align: middle;\n",
       "    }\n",
       "\n",
       "    .dataframe tbody tr th {\n",
       "        vertical-align: top;\n",
       "    }\n",
       "\n",
       "    .dataframe thead th {\n",
       "        text-align: right;\n",
       "    }\n",
       "</style>\n",
       "<table border=\"1\" class=\"dataframe\">\n",
       "  <thead>\n",
       "    <tr style=\"text-align: right;\">\n",
       "      <th></th>\n",
       "      <th>customer_ID</th>\n",
       "      <th>S_2</th>\n",
       "      <th>P_2</th>\n",
       "      <th>D_39</th>\n",
       "      <th>B_1</th>\n",
       "      <th>B_2</th>\n",
       "      <th>R_1</th>\n",
       "      <th>S_3</th>\n",
       "      <th>D_41</th>\n",
       "      <th>B_3</th>\n",
       "      <th>...</th>\n",
       "      <th>D_138</th>\n",
       "      <th>D_139</th>\n",
       "      <th>D_140</th>\n",
       "      <th>D_141</th>\n",
       "      <th>D_142</th>\n",
       "      <th>D_143</th>\n",
       "      <th>D_144</th>\n",
       "      <th>D_145</th>\n",
       "      <th>target</th>\n",
       "      <th>nn</th>\n",
       "    </tr>\n",
       "  </thead>\n",
       "  <tbody>\n",
       "    <tr>\n",
       "      <th>0</th>\n",
       "      <td>0000099d6bd597052cdcda90ffabf56573fe9d7c79be5f...</td>\n",
       "      <td>2018-03-13</td>\n",
       "      <td>0.934570</td>\n",
       "      <td>0.009117</td>\n",
       "      <td>0.009384</td>\n",
       "      <td>1.007812</td>\n",
       "      <td>0.006104</td>\n",
       "      <td>0.135010</td>\n",
       "      <td>0.001604</td>\n",
       "      <td>0.007175</td>\n",
       "      <td>...</td>\n",
       "      <td>NaN</td>\n",
       "      <td>0.007187</td>\n",
       "      <td>0.004234</td>\n",
       "      <td>0.005085</td>\n",
       "      <td>NaN</td>\n",
       "      <td>0.005810</td>\n",
       "      <td>0.002970</td>\n",
       "      <td>0.008530</td>\n",
       "      <td>0</td>\n",
       "      <td>0</td>\n",
       "    </tr>\n",
       "    <tr>\n",
       "      <th>1</th>\n",
       "      <td>00000fd6641609c6ece5454664794f0340ad84dddce9a2...</td>\n",
       "      <td>2018-03-25</td>\n",
       "      <td>0.880371</td>\n",
       "      <td>0.178101</td>\n",
       "      <td>0.034698</td>\n",
       "      <td>1.003906</td>\n",
       "      <td>0.006912</td>\n",
       "      <td>0.165527</td>\n",
       "      <td>0.005550</td>\n",
       "      <td>0.005070</td>\n",
       "      <td>...</td>\n",
       "      <td>NaN</td>\n",
       "      <td>0.002981</td>\n",
       "      <td>0.007481</td>\n",
       "      <td>0.007874</td>\n",
       "      <td>NaN</td>\n",
       "      <td>0.003284</td>\n",
       "      <td>0.003170</td>\n",
       "      <td>0.008514</td>\n",
       "      <td>0</td>\n",
       "      <td>1</td>\n",
       "    </tr>\n",
       "    <tr>\n",
       "      <th>2</th>\n",
       "      <td>00001b22f846c82c51f6e3958ccd81970162bae8b007e8...</td>\n",
       "      <td>2018-03-12</td>\n",
       "      <td>0.880859</td>\n",
       "      <td>0.009705</td>\n",
       "      <td>0.004284</td>\n",
       "      <td>0.812500</td>\n",
       "      <td>0.006451</td>\n",
       "      <td>NaN</td>\n",
       "      <td>0.003796</td>\n",
       "      <td>0.007195</td>\n",
       "      <td>...</td>\n",
       "      <td>NaN</td>\n",
       "      <td>0.007381</td>\n",
       "      <td>0.006622</td>\n",
       "      <td>0.000965</td>\n",
       "      <td>NaN</td>\n",
       "      <td>0.002201</td>\n",
       "      <td>0.000834</td>\n",
       "      <td>0.003445</td>\n",
       "      <td>0</td>\n",
       "      <td>2</td>\n",
       "    </tr>\n",
       "    <tr>\n",
       "      <th>3</th>\n",
       "      <td>000084e5023181993c2e1b665ac88dbb1ce9ef621ec537...</td>\n",
       "      <td>2018-03-19</td>\n",
       "      <td>0.824219</td>\n",
       "      <td>0.009773</td>\n",
       "      <td>0.007851</td>\n",
       "      <td>1.001953</td>\n",
       "      <td>0.006886</td>\n",
       "      <td>0.395752</td>\n",
       "      <td>0.002855</td>\n",
       "      <td>0.006134</td>\n",
       "      <td>...</td>\n",
       "      <td>NaN</td>\n",
       "      <td>0.009399</td>\n",
       "      <td>0.007835</td>\n",
       "      <td>0.000957</td>\n",
       "      <td>NaN</td>\n",
       "      <td>0.009056</td>\n",
       "      <td>0.006943</td>\n",
       "      <td>0.001446</td>\n",
       "      <td>0</td>\n",
       "      <td>3</td>\n",
       "    </tr>\n",
       "    <tr>\n",
       "      <th>4</th>\n",
       "      <td>000098081fde4fd64bc4d503a5d6f86a0aedc425c96f52...</td>\n",
       "      <td>2018-03-12</td>\n",
       "      <td>0.477051</td>\n",
       "      <td>0.000467</td>\n",
       "      <td>0.009415</td>\n",
       "      <td>1.008789</td>\n",
       "      <td>0.007774</td>\n",
       "      <td>0.267090</td>\n",
       "      <td>0.006126</td>\n",
       "      <td>0.125977</td>\n",
       "      <td>...</td>\n",
       "      <td>NaN</td>\n",
       "      <td>0.006012</td>\n",
       "      <td>0.005222</td>\n",
       "      <td>0.000937</td>\n",
       "      <td>NaN</td>\n",
       "      <td>0.009789</td>\n",
       "      <td>0.003704</td>\n",
       "      <td>0.006275</td>\n",
       "      <td>0</td>\n",
       "      <td>4</td>\n",
       "    </tr>\n",
       "  </tbody>\n",
       "</table>\n",
       "<p>5 rows × 192 columns</p>\n",
       "</div>"
      ],
      "text/plain": [
       "                                         customer_ID        S_2       P_2  \\\n",
       "0  0000099d6bd597052cdcda90ffabf56573fe9d7c79be5f... 2018-03-13  0.934570   \n",
       "1  00000fd6641609c6ece5454664794f0340ad84dddce9a2... 2018-03-25  0.880371   \n",
       "2  00001b22f846c82c51f6e3958ccd81970162bae8b007e8... 2018-03-12  0.880859   \n",
       "3  000084e5023181993c2e1b665ac88dbb1ce9ef621ec537... 2018-03-19  0.824219   \n",
       "4  000098081fde4fd64bc4d503a5d6f86a0aedc425c96f52... 2018-03-12  0.477051   \n",
       "\n",
       "       D_39       B_1       B_2       R_1       S_3      D_41       B_3  ...  \\\n",
       "0  0.009117  0.009384  1.007812  0.006104  0.135010  0.001604  0.007175  ...   \n",
       "1  0.178101  0.034698  1.003906  0.006912  0.165527  0.005550  0.005070  ...   \n",
       "2  0.009705  0.004284  0.812500  0.006451       NaN  0.003796  0.007195  ...   \n",
       "3  0.009773  0.007851  1.001953  0.006886  0.395752  0.002855  0.006134  ...   \n",
       "4  0.000467  0.009415  1.008789  0.007774  0.267090  0.006126  0.125977  ...   \n",
       "\n",
       "   D_138     D_139     D_140     D_141  D_142     D_143     D_144     D_145  \\\n",
       "0    NaN  0.007187  0.004234  0.005085    NaN  0.005810  0.002970  0.008530   \n",
       "1    NaN  0.002981  0.007481  0.007874    NaN  0.003284  0.003170  0.008514   \n",
       "2    NaN  0.007381  0.006622  0.000965    NaN  0.002201  0.000834  0.003445   \n",
       "3    NaN  0.009399  0.007835  0.000957    NaN  0.009056  0.006943  0.001446   \n",
       "4    NaN  0.006012  0.005222  0.000937    NaN  0.009789  0.003704  0.006275   \n",
       "\n",
       "   target  nn  \n",
       "0       0   0  \n",
       "1       0   1  \n",
       "2       0   2  \n",
       "3       0   3  \n",
       "4       0   4  \n",
       "\n",
       "[5 rows x 192 columns]"
      ]
     },
     "execution_count": 12,
     "metadata": {},
     "output_type": "execute_result"
    }
   ],
   "source": [
    "df.head()"
   ]
  },
  {
   "cell_type": "code",
   "execution_count": 13,
   "id": "2409a99a",
   "metadata": {},
   "outputs": [
    {
     "name": "stdout",
     "output_type": "stream",
     "text": [
      "<class 'pandas.core.frame.DataFrame'>\n",
      "RangeIndex: 458913 entries, 0 to 458912\n",
      "Columns: 192 entries, customer_ID to nn\n",
      "dtypes: category(11), datetime64[ns](1), float16(177), int64(2), object(1)\n",
      "memory usage: 173.8+ MB\n"
     ]
    }
   ],
   "source": [
    "df.info()"
   ]
  },
  {
   "cell_type": "code",
   "execution_count": 14,
   "id": "262df42e",
   "metadata": {},
   "outputs": [],
   "source": [
    "# В основном все переменные носят характер числовых(178) категории 11 и object 1"
   ]
  },
  {
   "cell_type": "code",
   "execution_count": 15,
   "id": "230efc8b",
   "metadata": {},
   "outputs": [],
   "source": [
    "#df[['target']].query('target !=2')"
   ]
  },
  {
   "cell_type": "code",
   "execution_count": 16,
   "id": "5f9522a0",
   "metadata": {},
   "outputs": [
    {
     "data": {
      "text/plain": [
       "0    74.005858\n",
       "1    25.994142\n",
       "Name: target, dtype: float64"
      ]
     },
     "execution_count": 16,
     "metadata": {},
     "output_type": "execute_result"
    }
   ],
   "source": [
    "df_t['target'].value_counts()/df_t.shape[0]*100\n",
    "# В целом таргет имеет несбалансировку классов, что не очень хорощо\n",
    "# дефотла только 25%. "
   ]
  },
  {
   "cell_type": "code",
   "execution_count": 17,
   "id": "1ef87f21",
   "metadata": {},
   "outputs": [
    {
     "name": "stdout",
     "output_type": "stream",
     "text": [
      "<class 'pandas.core.frame.DataFrame'>\n",
      "RangeIndex: 368710 entries, 0 to 368709\n",
      "Columns: 191 entries, customer_ID to target\n",
      "dtypes: category(11), datetime64[ns](1), float16(177), int64(1), object(1)\n",
      "memory usage: 136.8+ MB\n"
     ]
    }
   ],
   "source": [
    "df_t.info()"
   ]
  },
  {
   "cell_type": "code",
   "execution_count": 18,
   "id": "0852bf92",
   "metadata": {},
   "outputs": [],
   "source": [
    "# Посмотрим на характеристики пропусков."
   ]
  },
  {
   "cell_type": "code",
   "execution_count": 19,
   "id": "64651450",
   "metadata": {},
   "outputs": [
    {
     "data": {
      "text/html": [
       "<div>\n",
       "<style scoped>\n",
       "    .dataframe tbody tr th:only-of-type {\n",
       "        vertical-align: middle;\n",
       "    }\n",
       "\n",
       "    .dataframe tbody tr th {\n",
       "        vertical-align: top;\n",
       "    }\n",
       "\n",
       "    .dataframe thead th {\n",
       "        text-align: right;\n",
       "    }\n",
       "</style>\n",
       "<table border=\"1\" class=\"dataframe\">\n",
       "  <thead>\n",
       "    <tr style=\"text-align: right;\">\n",
       "      <th></th>\n",
       "      <th>null</th>\n",
       "    </tr>\n",
       "  </thead>\n",
       "  <tbody>\n",
       "    <tr>\n",
       "      <th>D_87</th>\n",
       "      <td>99.859450</td>\n",
       "    </tr>\n",
       "    <tr>\n",
       "      <th>D_88</th>\n",
       "      <td>99.819792</td>\n",
       "    </tr>\n",
       "    <tr>\n",
       "      <th>D_108</th>\n",
       "      <td>99.427560</td>\n",
       "    </tr>\n",
       "    <tr>\n",
       "      <th>D_111</th>\n",
       "      <td>99.198541</td>\n",
       "    </tr>\n",
       "    <tr>\n",
       "      <th>D_110</th>\n",
       "      <td>99.198541</td>\n",
       "    </tr>\n",
       "    <tr>\n",
       "      <th>B_39</th>\n",
       "      <td>99.105495</td>\n",
       "    </tr>\n",
       "    <tr>\n",
       "      <th>D_73</th>\n",
       "      <td>99.076296</td>\n",
       "    </tr>\n",
       "    <tr>\n",
       "      <th>B_42</th>\n",
       "      <td>98.661620</td>\n",
       "    </tr>\n",
       "    <tr>\n",
       "      <th>D_136</th>\n",
       "      <td>96.427427</td>\n",
       "    </tr>\n",
       "    <tr>\n",
       "      <th>D_134</th>\n",
       "      <td>96.427427</td>\n",
       "    </tr>\n",
       "    <tr>\n",
       "      <th>D_137</th>\n",
       "      <td>96.427427</td>\n",
       "    </tr>\n",
       "    <tr>\n",
       "      <th>D_138</th>\n",
       "      <td>96.427427</td>\n",
       "    </tr>\n",
       "    <tr>\n",
       "      <th>D_135</th>\n",
       "      <td>96.427427</td>\n",
       "    </tr>\n",
       "    <tr>\n",
       "      <th>R_9</th>\n",
       "      <td>94.126773</td>\n",
       "    </tr>\n",
       "    <tr>\n",
       "      <th>B_29</th>\n",
       "      <td>94.045930</td>\n",
       "    </tr>\n",
       "    <tr>\n",
       "      <th>D_76</th>\n",
       "      <td>89.253737</td>\n",
       "    </tr>\n",
       "    <tr>\n",
       "      <th>R_26</th>\n",
       "      <td>88.855622</td>\n",
       "    </tr>\n",
       "    <tr>\n",
       "      <th>D_106</th>\n",
       "      <td>88.745579</td>\n",
       "    </tr>\n",
       "    <tr>\n",
       "      <th>D_132</th>\n",
       "      <td>88.721174</td>\n",
       "    </tr>\n",
       "    <tr>\n",
       "      <th>D_49</th>\n",
       "      <td>88.720520</td>\n",
       "    </tr>\n",
       "    <tr>\n",
       "      <th>D_66</th>\n",
       "      <td>88.542055</td>\n",
       "    </tr>\n",
       "    <tr>\n",
       "      <th>D_42</th>\n",
       "      <td>86.945238</td>\n",
       "    </tr>\n",
       "    <tr>\n",
       "      <th>D_142</th>\n",
       "      <td>82.498861</td>\n",
       "    </tr>\n",
       "    <tr>\n",
       "      <th>D_82</th>\n",
       "      <td>74.806118</td>\n",
       "    </tr>\n",
       "    <tr>\n",
       "      <th>D_53</th>\n",
       "      <td>71.022612</td>\n",
       "    </tr>\n",
       "    <tr>\n",
       "      <th>D_50</th>\n",
       "      <td>57.142639</td>\n",
       "    </tr>\n",
       "    <tr>\n",
       "      <th>D_105</th>\n",
       "      <td>53.518205</td>\n",
       "    </tr>\n",
       "    <tr>\n",
       "      <th>D_56</th>\n",
       "      <td>53.329062</td>\n",
       "    </tr>\n",
       "    <tr>\n",
       "      <th>B_17</th>\n",
       "      <td>53.271753</td>\n",
       "    </tr>\n",
       "    <tr>\n",
       "      <th>D_77</th>\n",
       "      <td>46.596414</td>\n",
       "    </tr>\n",
       "    <tr>\n",
       "      <th>S_9</th>\n",
       "      <td>40.063803</td>\n",
       "    </tr>\n",
       "    <tr>\n",
       "      <th>D_43</th>\n",
       "      <td>29.269600</td>\n",
       "    </tr>\n",
       "    <tr>\n",
       "      <th>S_27</th>\n",
       "      <td>25.531201</td>\n",
       "    </tr>\n",
       "  </tbody>\n",
       "</table>\n",
       "</div>"
      ],
      "text/plain": [
       "            null\n",
       "D_87   99.859450\n",
       "D_88   99.819792\n",
       "D_108  99.427560\n",
       "D_111  99.198541\n",
       "D_110  99.198541\n",
       "B_39   99.105495\n",
       "D_73   99.076296\n",
       "B_42   98.661620\n",
       "D_136  96.427427\n",
       "D_134  96.427427\n",
       "D_137  96.427427\n",
       "D_138  96.427427\n",
       "D_135  96.427427\n",
       "R_9    94.126773\n",
       "B_29   94.045930\n",
       "D_76   89.253737\n",
       "R_26   88.855622\n",
       "D_106  88.745579\n",
       "D_132  88.721174\n",
       "D_49   88.720520\n",
       "D_66   88.542055\n",
       "D_42   86.945238\n",
       "D_142  82.498861\n",
       "D_82   74.806118\n",
       "D_53   71.022612\n",
       "D_50   57.142639\n",
       "D_105  53.518205\n",
       "D_56   53.329062\n",
       "B_17   53.271753\n",
       "D_77   46.596414\n",
       "S_9    40.063803\n",
       "D_43   29.269600\n",
       "S_27   25.531201"
      ]
     },
     "execution_count": 19,
     "metadata": {},
     "output_type": "execute_result"
    }
   ],
   "source": [
    "null = (pd.DataFrame(df.isnull().sum(),columns=['null'])/df.shape[0]*100).sort_values(by  = 'null', ascending=False)\n",
    "null.query('null >25').head(33)"
   ]
  },
  {
   "cell_type": "code",
   "execution_count": 20,
   "id": "a0583881",
   "metadata": {},
   "outputs": [],
   "source": [
    "# Видим, что есть пул переменных у которых кол-во пропусков больше чем 25% процентов. Таковых у нас 33. \n",
    "#В целом не очень хорошие переменные, При этом 50% пропусков имеют 29 переменных, что не сильно отличается.\n",
    "#Большинство относящиеся к группе D. Есть и категориальные.\n",
    "#Корректнее будет не задействать эти переменные в обучении. А все что имеет пропуска меньще 25% заменить медианой. "
   ]
  },
  {
   "cell_type": "markdown",
   "id": "6c61bbc6",
   "metadata": {},
   "source": [
    "Медиана, как показывает практика не смещает распределение данных в отличии от той же средней"
   ]
  },
  {
   "cell_type": "code",
   "execution_count": 22,
   "id": "c8583b6d",
   "metadata": {},
   "outputs": [],
   "source": [
    "#B_30, B_38, D_114, D_116, D_117, D_120, D_126, D_63, D_64, D_66, D_68"
   ]
  },
  {
   "cell_type": "markdown",
   "id": "c5ab274f",
   "metadata": {},
   "source": [
    "Посмотрим на категориальные переменные"
   ]
  },
  {
   "cell_type": "code",
   "execution_count": 23,
   "id": "74c198d5",
   "metadata": {},
   "outputs": [],
   "source": [
    "df_tr = df[['target']].reset_index()\n",
    "df_disr  = df.select_dtypes(include='category').reset_index()\n",
    "df_tr\n",
    "df_disr = df_disr.merge(df_tr,on=('index'), how ='left')\n",
    "df_disr = df_disr.drop(columns=['index','D_63','D_64','D_66','target'], axis =1)"
   ]
  },
  {
   "cell_type": "code",
   "execution_count": 24,
   "id": "879b451d",
   "metadata": {},
   "outputs": [
    {
     "data": {
      "text/html": [
       "<div>\n",
       "<style scoped>\n",
       "    .dataframe tbody tr th:only-of-type {\n",
       "        vertical-align: middle;\n",
       "    }\n",
       "\n",
       "    .dataframe tbody tr th {\n",
       "        vertical-align: top;\n",
       "    }\n",
       "\n",
       "    .dataframe thead th {\n",
       "        text-align: right;\n",
       "    }\n",
       "</style>\n",
       "<table border=\"1\" class=\"dataframe\">\n",
       "  <thead>\n",
       "    <tr style=\"text-align: right;\">\n",
       "      <th></th>\n",
       "      <th>D_68</th>\n",
       "      <th>B_30</th>\n",
       "      <th>B_38</th>\n",
       "      <th>D_114</th>\n",
       "      <th>D_116</th>\n",
       "      <th>D_117</th>\n",
       "      <th>D_120</th>\n",
       "      <th>D_126</th>\n",
       "    </tr>\n",
       "  </thead>\n",
       "  <tbody>\n",
       "    <tr>\n",
       "      <th>0</th>\n",
       "      <td>6.0</td>\n",
       "      <td>0.0</td>\n",
       "      <td>2.0</td>\n",
       "      <td>1.0</td>\n",
       "      <td>0.0</td>\n",
       "      <td>4.0</td>\n",
       "      <td>0.0</td>\n",
       "      <td>1.0</td>\n",
       "    </tr>\n",
       "    <tr>\n",
       "      <th>1</th>\n",
       "      <td>6.0</td>\n",
       "      <td>0.0</td>\n",
       "      <td>2.0</td>\n",
       "      <td>1.0</td>\n",
       "      <td>0.0</td>\n",
       "      <td>-1.0</td>\n",
       "      <td>0.0</td>\n",
       "      <td>1.0</td>\n",
       "    </tr>\n",
       "    <tr>\n",
       "      <th>2</th>\n",
       "      <td>6.0</td>\n",
       "      <td>0.0</td>\n",
       "      <td>1.0</td>\n",
       "      <td>1.0</td>\n",
       "      <td>0.0</td>\n",
       "      <td>-1.0</td>\n",
       "      <td>0.0</td>\n",
       "      <td>1.0</td>\n",
       "    </tr>\n",
       "    <tr>\n",
       "      <th>3</th>\n",
       "      <td>6.0</td>\n",
       "      <td>0.0</td>\n",
       "      <td>2.0</td>\n",
       "      <td>1.0</td>\n",
       "      <td>0.0</td>\n",
       "      <td>1.0</td>\n",
       "      <td>0.0</td>\n",
       "      <td>1.0</td>\n",
       "    </tr>\n",
       "    <tr>\n",
       "      <th>4</th>\n",
       "      <td>3.0</td>\n",
       "      <td>0.0</td>\n",
       "      <td>3.0</td>\n",
       "      <td>0.0</td>\n",
       "      <td>0.0</td>\n",
       "      <td>2.0</td>\n",
       "      <td>0.0</td>\n",
       "      <td>0.0</td>\n",
       "    </tr>\n",
       "    <tr>\n",
       "      <th>...</th>\n",
       "      <td>...</td>\n",
       "      <td>...</td>\n",
       "      <td>...</td>\n",
       "      <td>...</td>\n",
       "      <td>...</td>\n",
       "      <td>...</td>\n",
       "      <td>...</td>\n",
       "      <td>...</td>\n",
       "    </tr>\n",
       "    <tr>\n",
       "      <th>458908</th>\n",
       "      <td>6.0</td>\n",
       "      <td>0.0</td>\n",
       "      <td>1.0</td>\n",
       "      <td>1.0</td>\n",
       "      <td>0.0</td>\n",
       "      <td>4.0</td>\n",
       "      <td>0.0</td>\n",
       "      <td>1.0</td>\n",
       "    </tr>\n",
       "    <tr>\n",
       "      <th>458909</th>\n",
       "      <td>6.0</td>\n",
       "      <td>0.0</td>\n",
       "      <td>1.0</td>\n",
       "      <td>1.0</td>\n",
       "      <td>0.0</td>\n",
       "      <td>6.0</td>\n",
       "      <td>0.0</td>\n",
       "      <td>1.0</td>\n",
       "    </tr>\n",
       "    <tr>\n",
       "      <th>458910</th>\n",
       "      <td>5.0</td>\n",
       "      <td>0.0</td>\n",
       "      <td>2.0</td>\n",
       "      <td>1.0</td>\n",
       "      <td>0.0</td>\n",
       "      <td>5.0</td>\n",
       "      <td>0.0</td>\n",
       "      <td>1.0</td>\n",
       "    </tr>\n",
       "    <tr>\n",
       "      <th>458911</th>\n",
       "      <td>6.0</td>\n",
       "      <td>1.0</td>\n",
       "      <td>6.0</td>\n",
       "      <td>1.0</td>\n",
       "      <td>0.0</td>\n",
       "      <td>2.0</td>\n",
       "      <td>0.0</td>\n",
       "      <td>1.0</td>\n",
       "    </tr>\n",
       "    <tr>\n",
       "      <th>458912</th>\n",
       "      <td>6.0</td>\n",
       "      <td>0.0</td>\n",
       "      <td>2.0</td>\n",
       "      <td>0.0</td>\n",
       "      <td>0.0</td>\n",
       "      <td>3.0</td>\n",
       "      <td>1.0</td>\n",
       "      <td>1.0</td>\n",
       "    </tr>\n",
       "  </tbody>\n",
       "</table>\n",
       "<p>458913 rows × 8 columns</p>\n",
       "</div>"
      ],
      "text/plain": [
       "       D_68 B_30 B_38 D_114 D_116 D_117 D_120 D_126\n",
       "0       6.0  0.0  2.0   1.0   0.0   4.0   0.0   1.0\n",
       "1       6.0  0.0  2.0   1.0   0.0  -1.0   0.0   1.0\n",
       "2       6.0  0.0  1.0   1.0   0.0  -1.0   0.0   1.0\n",
       "3       6.0  0.0  2.0   1.0   0.0   1.0   0.0   1.0\n",
       "4       3.0  0.0  3.0   0.0   0.0   2.0   0.0   0.0\n",
       "...     ...  ...  ...   ...   ...   ...   ...   ...\n",
       "458908  6.0  0.0  1.0   1.0   0.0   4.0   0.0   1.0\n",
       "458909  6.0  0.0  1.0   1.0   0.0   6.0   0.0   1.0\n",
       "458910  5.0  0.0  2.0   1.0   0.0   5.0   0.0   1.0\n",
       "458911  6.0  1.0  6.0   1.0   0.0   2.0   0.0   1.0\n",
       "458912  6.0  0.0  2.0   0.0   0.0   3.0   1.0   1.0\n",
       "\n",
       "[458913 rows x 8 columns]"
      ]
     },
     "execution_count": 24,
     "metadata": {},
     "output_type": "execute_result"
    }
   ],
   "source": [
    "df_disr"
   ]
  },
  {
   "cell_type": "code",
   "execution_count": 25,
   "id": "50da1bbf",
   "metadata": {},
   "outputs": [],
   "source": [
    "# Посмотрим на категориальные переменные в разрезе таргета"
   ]
  },
  {
   "cell_type": "code",
   "execution_count": 26,
   "id": "db8deffd",
   "metadata": {},
   "outputs": [
    {
     "data": {
      "image/png": "[encoded data removed]",
      "text/plain": [
       "<Figure size 1000x1000 with 8 Axes>"
      ]
     },
     "metadata": {},
     "output_type": "display_data"
    }
   ],
   "source": [
    "df_tr = df[['target']].reset_index()\n",
    "df_disr  = df.select_dtypes(include='category').reset_index()\n",
    "df_tr\n",
    "df_disr = df_disr.merge(df_tr,on=('index'), how ='left')\n",
    "df_disr = df_disr.drop(columns=['index','D_63','D_64','D_66'], axis =1)\n",
    "\n",
    "fig, axes = plt.subplots(nrows=4, ncols=2, figsize=(10,10))\n",
    "axes_list = [item for sublist in axes for item in sublist]\n",
    "fig.tight_layout(pad=5.0)\n",
    "fig.suptitle('Распределение непрерывных признаков', fontsize=16)\n",
    "for feature in df_disr.drop('target', 1).columns.tolist():\n",
    "    ax = axes_list.pop(0)\n",
    "    sns.distplot(df_disr.query('target == 1')[feature], bins=25, ax=ax, kde=True, color='r',label='дефолт-1')\n",
    "\n",
    "    sns.distplot(df_disr.query('target == 0')[feature], bins=25, ax=ax, kde=True, color='c',label='Нет дефолта-0')\n",
    "#     ax.set_title('ОСТАЛИСЬ (churn = 0)')\n",
    "    ax.set_xlabel(feature, fontsize=11)\n",
    "    ax.set_ylabel('Кол-во записей', fontsize=12)\n",
    "    ax.legend()"
   ]
  },
  {
   "cell_type": "markdown",
   "id": "0278879c",
   "metadata": {},
   "source": [
    "Очень странные категории - большая часть зашифрованы с минусовыми значениями.\n",
    "При случае незнания, можно было бы опеределить некоторые категороии как int. с учетом отрицательных значений"
   ]
  },
  {
   "cell_type": "markdown",
   "id": "8f97a24d",
   "metadata": {},
   "source": [
    "Есть категории, значения которых определены как текст- оценим их"
   ]
  },
  {
   "cell_type": "code",
   "execution_count": 27,
   "id": "4ca357ec",
   "metadata": {},
   "outputs": [
    {
     "data": {
      "text/plain": [
       "CO    75.153678\n",
       "CR    15.945942\n",
       "CL     7.685771\n",
       "XZ     0.711028\n",
       "XM     0.327513\n",
       "XL     0.176068\n",
       "Name: D_63, dtype: float64"
      ]
     },
     "execution_count": 27,
     "metadata": {},
     "output_type": "execute_result"
    }
   ],
   "source": [
    "df['D_63'].value_counts()/df.shape[0]*100"
   ]
  },
  {
   "cell_type": "code",
   "execution_count": 28,
   "id": "30b3b7a4",
   "metadata": {},
   "outputs": [
    {
     "data": {
      "text/plain": [
       "O     53.304657\n",
       "U     28.920950\n",
       "R     15.587268\n",
       "       2.187125\n",
       "-1     0.000000\n",
       "Name: D_64, dtype: float64"
      ]
     },
     "execution_count": 28,
     "metadata": {},
     "output_type": "execute_result"
    }
   ],
   "source": [
    "df['D_64'].value_counts()/df.shape[0]*100"
   ]
  },
  {
   "cell_type": "code",
   "execution_count": 29,
   "id": "eb2a5c67",
   "metadata": {},
   "outputs": [
    {
     "data": {
      "text/plain": [
       "368710"
      ]
     },
     "execution_count": 29,
     "metadata": {},
     "output_type": "execute_result"
    }
   ],
   "source": [
    "df_t[['S_2']].value_counts().sum()"
   ]
  },
  {
   "cell_type": "code",
   "execution_count": 30,
   "id": "dbe598d2",
   "metadata": {},
   "outputs": [
    {
     "data": {
      "text/plain": [
       "['O', 'R', 'U', '']\n",
       "Categories (5, object): ['', '-1', 'O', 'R', 'U']"
      ]
     },
     "execution_count": 30,
     "metadata": {},
     "output_type": "execute_result"
    }
   ],
   "source": [
    "df['D_64'].unique()# Оченнь странная переменная D_64, где есть значение которые пусто, но пределено как '' \n",
    "#как отсутвие значения. И есть название '-1' Придется это как-то заменить."
   ]
  },
  {
   "cell_type": "code",
   "execution_count": 31,
   "id": "8d0eaf34",
   "metadata": {},
   "outputs": [],
   "source": [
    "# Произведем замену.\n",
    "df['D_64'] = df['D_64'].replace('', 'S')\n",
    "df['D_64'] = df['D_64'].replace('-1', 'E')"
   ]
  },
  {
   "cell_type": "code",
   "execution_count": 33,
   "id": "30848e81",
   "metadata": {},
   "outputs": [
    {
     "data": {
      "text/html": [
       "<div>\n",
       "<style scoped>\n",
       "    .dataframe tbody tr th:only-of-type {\n",
       "        vertical-align: middle;\n",
       "    }\n",
       "\n",
       "    .dataframe tbody tr th {\n",
       "        vertical-align: top;\n",
       "    }\n",
       "\n",
       "    .dataframe thead th {\n",
       "        text-align: right;\n",
       "    }\n",
       "</style>\n",
       "<table border=\"1\" class=\"dataframe\">\n",
       "  <thead>\n",
       "    <tr style=\"text-align: right;\">\n",
       "      <th></th>\n",
       "      <th>target</th>\n",
       "    </tr>\n",
       "  </thead>\n",
       "  <tbody>\n",
       "    <tr>\n",
       "      <th>target</th>\n",
       "      <td>1.000000</td>\n",
       "    </tr>\n",
       "    <tr>\n",
       "      <th>nn</th>\n",
       "      <td>0.597316</td>\n",
       "    </tr>\n",
       "    <tr>\n",
       "      <th>D_48</th>\n",
       "      <td>0.276780</td>\n",
       "    </tr>\n",
       "    <tr>\n",
       "      <th>D_61</th>\n",
       "      <td>0.245265</td>\n",
       "    </tr>\n",
       "    <tr>\n",
       "      <th>D_55</th>\n",
       "      <td>0.240029</td>\n",
       "    </tr>\n",
       "    <tr>\n",
       "      <th>B_9</th>\n",
       "      <td>0.235837</td>\n",
       "    </tr>\n",
       "    <tr>\n",
       "      <th>D_44</th>\n",
       "      <td>0.235536</td>\n",
       "    </tr>\n",
       "    <tr>\n",
       "      <th>D_58</th>\n",
       "      <td>0.223547</td>\n",
       "    </tr>\n",
       "    <tr>\n",
       "      <th>D_75</th>\n",
       "      <td>0.223386</td>\n",
       "    </tr>\n",
       "    <tr>\n",
       "      <th>B_3</th>\n",
       "      <td>0.222865</td>\n",
       "    </tr>\n",
       "    <tr>\n",
       "      <th>B_7</th>\n",
       "      <td>0.221732</td>\n",
       "    </tr>\n",
       "    <tr>\n",
       "      <th>B_23</th>\n",
       "      <td>0.218656</td>\n",
       "    </tr>\n",
       "  </tbody>\n",
       "</table>\n",
       "</div>"
      ],
      "text/plain": [
       "          target\n",
       "target  1.000000\n",
       "nn      0.597316\n",
       "D_48    0.276780\n",
       "D_61    0.245265\n",
       "D_55    0.240029\n",
       "B_9     0.235837\n",
       "D_44    0.235536\n",
       "D_58    0.223547\n",
       "D_75    0.223386\n",
       "B_3     0.222865\n",
       "B_7     0.221732\n",
       "B_23    0.218656"
      ]
     },
     "execution_count": 33,
     "metadata": {},
     "output_type": "execute_result"
    }
   ],
   "source": [
    "# Посмотри на признаки с максимальной корреляций на таргет и для ТОП-10 построим ящики с усами.\n",
    "corr = pd.DataFrame(df.corr()['target'].sort_values(ascending = False).head(12))\n",
    "corr"
   ]
  },
  {
   "cell_type": "code",
   "execution_count": 34,
   "id": "de2033ad",
   "metadata": {},
   "outputs": [
    {
     "data": {
      "text/plain": [
       "Index(['target', 'nn', 'D_48', 'D_61', 'D_55', 'B_9', 'D_44', 'D_58', 'D_75',\n",
       "       'B_3', 'B_7', 'B_23'],\n",
       "      dtype='object')"
      ]
     },
     "execution_count": 34,
     "metadata": {},
     "output_type": "execute_result"
    }
   ],
   "source": [
    "corr.T.columns"
   ]
  },
  {
   "cell_type": "code",
   "execution_count": 739,
   "id": "8f3d18a2",
   "metadata": {},
   "outputs": [
    {
     "data": {
      "text/plain": [
       "10"
      ]
     },
     "execution_count": 739,
     "metadata": {},
     "output_type": "execute_result"
    }
   ],
   "source": [
    "len(columns_to_plot)"
   ]
  },
  {
   "cell_type": "code",
   "execution_count": 35,
   "id": "2f6fb707",
   "metadata": {},
   "outputs": [
    {
     "data": {
      "image/png": "[encoded data removed]",
      "text/plain": [
       "<Figure size 1500x1000 with 10 Axes>"
      ]
     },
     "metadata": {},
     "output_type": "display_data"
    }
   ],
   "source": [
    "# размер графиков\n",
    "rcParams['figure.figsize'] = 15,10\n",
    "# Store the list of columns\n",
    "columns_to_plot = ['D_48', 'D_61', 'D_55', 'D_44', 'D_58', 'D_75', 'B_9', 'B_7',\n",
    "       'B_3', 'B_23']\n",
    "\n",
    "# Create the figure and two subplots\n",
    "fig, axes = plt.subplots(ncols=len(columns_to_plot))\n",
    "\n",
    "# Create the boxplot with Seaborn\n",
    "for column, axis in zip(columns_to_plot, axes):\n",
    "        sns.boxplot(data=df[column], ax=axis) \n",
    "        axis.set_title(column)\n",
    "        # axis.set(xticklabels=[], xticks=[], ylabel=column)\n",
    "\n",
    "# Show the plot\n",
    "plt.tight_layout()\n",
    "plt.show()"
   ]
  },
  {
   "cell_type": "code",
   "execution_count": 36,
   "id": "4617b18d",
   "metadata": {},
   "outputs": [
    {
     "data": {
      "text/plain": [
       "<Axes: xlabel='S_2', ylabel='count'>"
      ]
     },
     "execution_count": 36,
     "metadata": {},
     "output_type": "execute_result"
    },
    {
     "data": {
      "image/png": "[encoded data removed]",
      "text/plain": [
       "<Figure size 1000x500 with 1 Axes>"
      ]
     },
     "metadata": {},
     "output_type": "display_data"
    }
   ],
   "source": [
    "# Посмотрим, как распределяются клиенты и таргеты относитьельно временной переменной. для этого вычислим\n",
    "# из него позицию недели\n",
    "df_dt = df[['S_2','target','customer_ID']].query('target !=2')\n",
    "df_dt['S_2'] = df_dt['S_2'].dt.to_period('W')\n",
    "# размер графиков\n",
    "rcParams['figure.figsize'] = 10,5\n",
    "sns.countplot(data=df_dt, x=\"S_2\", hue=\"target\")"
   ]
  },
  {
   "cell_type": "markdown",
   "id": "644a20ca",
   "metadata": {},
   "source": [
    "В целом нас здесь интересовало как распределяется позиции по времени. Вдруг, здесь есть клиенты 10тней давности.\n",
    "Или есть зависимоть влияния дефолта относитетельно времени. Как мы видим, доля дефолта и отсутвие дефолта\n",
    "примерно равны отностительно недели/месяца. Плюс как мы видим, данные у нас только одного месяца. Вдруг у нас так, что и тест другого мемяца  - посмотрим на это."
   ]
  },
  {
   "cell_type": "code",
   "execution_count": 37,
   "id": "b6113b71",
   "metadata": {},
   "outputs": [
    {
     "data": {
      "text/plain": [
       "<Axes: xlabel='S_2', ylabel='count'>"
      ]
     },
     "execution_count": 37,
     "metadata": {},
     "output_type": "execute_result"
    },
    {
     "data": {
      "image/png": "[encoded data removed]",
      "text/plain": [
       "<Figure size 1000x500 with 1 Axes>"
      ]
     },
     "metadata": {},
     "output_type": "display_data"
    }
   ],
   "source": [
    "df_dt = df_test[['S_2','customer_ID']]\n",
    "df_dt['S_2'] = df_dt['S_2'].dt.to_period('D')\n",
    "# размер графиков\n",
    "rcParams['figure.figsize'] = 10,5\n",
    "sns.countplot(data=df_dt, x=\"S_2\")"
   ]
  },
  {
   "cell_type": "markdown",
   "id": "01fb6c17",
   "metadata": {},
   "source": [
    "Видно, что обучающие данные конца февраля и всего марта. А тест только последних 5 дней марта. Разумеется будут проблемы к валидации модели. Иными словами обучаем модель на ранних данных,  а валидируем на поздних. К этому есть вопросы.\n",
    "Это значит, что тренировать модель нужно на поздних данных, а верифицировать на ранних. В таком случае будет корректно.\n",
    "В обычном значении, у нас нет зависмости от временого лага. Другими словами, берем ранние данные и смотрим, что будет\n",
    "с поздними."
   ]
  },
  {
   "cell_type": "code",
   "execution_count": 38,
   "id": "a42d12e0",
   "metadata": {},
   "outputs": [
    {
     "data": {
      "text/html": [
       "<div>\n",
       "<style scoped>\n",
       "    .dataframe tbody tr th:only-of-type {\n",
       "        vertical-align: middle;\n",
       "    }\n",
       "\n",
       "    .dataframe tbody tr th {\n",
       "        vertical-align: top;\n",
       "    }\n",
       "\n",
       "    .dataframe thead th {\n",
       "        text-align: right;\n",
       "    }\n",
       "</style>\n",
       "<table border=\"1\" class=\"dataframe\">\n",
       "  <thead>\n",
       "    <tr style=\"text-align: right;\">\n",
       "      <th></th>\n",
       "      <th>count</th>\n",
       "      <th>mean</th>\n",
       "      <th>std</th>\n",
       "      <th>min</th>\n",
       "      <th>25%</th>\n",
       "      <th>50%</th>\n",
       "      <th>75%</th>\n",
       "      <th>max</th>\n",
       "    </tr>\n",
       "  </thead>\n",
       "  <tbody>\n",
       "    <tr>\n",
       "      <th>index</th>\n",
       "      <td>458913.0</td>\n",
       "      <td>229456.000000</td>\n",
       "      <td>132476.916380</td>\n",
       "      <td>0.000000e+00</td>\n",
       "      <td>114728.000000</td>\n",
       "      <td>229456.000000</td>\n",
       "      <td>344184.000000</td>\n",
       "      <td>458912.000000</td>\n",
       "    </tr>\n",
       "    <tr>\n",
       "      <th>P_2</th>\n",
       "      <td>455944.0</td>\n",
       "      <td>NaN</td>\n",
       "      <td>0.000000</td>\n",
       "      <td>-4.589844e-01</td>\n",
       "      <td>0.449219</td>\n",
       "      <td>0.682617</td>\n",
       "      <td>0.862305</td>\n",
       "      <td>1.009766</td>\n",
       "    </tr>\n",
       "    <tr>\n",
       "      <th>D_39</th>\n",
       "      <td>458913.0</td>\n",
       "      <td>NaN</td>\n",
       "      <td>0.000000</td>\n",
       "      <td>5.960464e-08</td>\n",
       "      <td>0.004784</td>\n",
       "      <td>0.009560</td>\n",
       "      <td>0.266602</td>\n",
       "      <td>5.000000</td>\n",
       "    </tr>\n",
       "    <tr>\n",
       "      <th>B_1</th>\n",
       "      <td>458913.0</td>\n",
       "      <td>0.000000</td>\n",
       "      <td>0.231201</td>\n",
       "      <td>-3.570312e+00</td>\n",
       "      <td>0.008987</td>\n",
       "      <td>0.033234</td>\n",
       "      <td>0.153687</td>\n",
       "      <td>1.324219</td>\n",
       "    </tr>\n",
       "    <tr>\n",
       "      <th>B_2</th>\n",
       "      <td>458882.0</td>\n",
       "      <td>NaN</td>\n",
       "      <td>0.000000</td>\n",
       "      <td>1.788139e-07</td>\n",
       "      <td>0.070923</td>\n",
       "      <td>0.813477</td>\n",
       "      <td>1.001953</td>\n",
       "      <td>1.009766</td>\n",
       "    </tr>\n",
       "    <tr>\n",
       "      <th>R_1</th>\n",
       "      <td>458913.0</td>\n",
       "      <td>0.000000</td>\n",
       "      <td>0.278564</td>\n",
       "      <td>5.960464e-08</td>\n",
       "      <td>0.002956</td>\n",
       "      <td>0.005920</td>\n",
       "      <td>0.008888</td>\n",
       "      <td>2.759766</td>\n",
       "    </tr>\n",
       "    <tr>\n",
       "      <th>S_3</th>\n",
       "      <td>373943.0</td>\n",
       "      <td>NaN</td>\n",
       "      <td>0.000000</td>\n",
       "      <td>-5.087891e-01</td>\n",
       "      <td>0.127563</td>\n",
       "      <td>0.164917</td>\n",
       "      <td>0.264893</td>\n",
       "      <td>3.994141</td>\n",
       "    </tr>\n",
       "    <tr>\n",
       "      <th>D_41</th>\n",
       "      <td>458882.0</td>\n",
       "      <td>0.000000</td>\n",
       "      <td>0.303955</td>\n",
       "      <td>5.960464e-08</td>\n",
       "      <td>0.003008</td>\n",
       "      <td>0.006012</td>\n",
       "      <td>0.008995</td>\n",
       "      <td>8.992188</td>\n",
       "    </tr>\n",
       "    <tr>\n",
       "      <th>B_3</th>\n",
       "      <td>458882.0</td>\n",
       "      <td>NaN</td>\n",
       "      <td>0.000000</td>\n",
       "      <td>5.960464e-08</td>\n",
       "      <td>0.005486</td>\n",
       "      <td>0.010834</td>\n",
       "      <td>0.210693</td>\n",
       "      <td>1.596680</td>\n",
       "    </tr>\n",
       "    <tr>\n",
       "      <th>D_42</th>\n",
       "      <td>59910.0</td>\n",
       "      <td>0.177856</td>\n",
       "      <td>0.253662</td>\n",
       "      <td>-2.404451e-04</td>\n",
       "      <td>0.031769</td>\n",
       "      <td>0.108276</td>\n",
       "      <td>0.230347</td>\n",
       "      <td>4.187500</td>\n",
       "    </tr>\n",
       "  </tbody>\n",
       "</table>\n",
       "</div>"
      ],
      "text/plain": [
       "          count           mean            std           min            25%  \\\n",
       "index  458913.0  229456.000000  132476.916380  0.000000e+00  114728.000000   \n",
       "P_2    455944.0            NaN       0.000000 -4.589844e-01       0.449219   \n",
       "D_39   458913.0            NaN       0.000000  5.960464e-08       0.004784   \n",
       "B_1    458913.0       0.000000       0.231201 -3.570312e+00       0.008987   \n",
       "B_2    458882.0            NaN       0.000000  1.788139e-07       0.070923   \n",
       "R_1    458913.0       0.000000       0.278564  5.960464e-08       0.002956   \n",
       "S_3    373943.0            NaN       0.000000 -5.087891e-01       0.127563   \n",
       "D_41   458882.0       0.000000       0.303955  5.960464e-08       0.003008   \n",
       "B_3    458882.0            NaN       0.000000  5.960464e-08       0.005486   \n",
       "D_42    59910.0       0.177856       0.253662 -2.404451e-04       0.031769   \n",
       "\n",
       "                 50%            75%            max  \n",
       "index  229456.000000  344184.000000  458912.000000  \n",
       "P_2         0.682617       0.862305       1.009766  \n",
       "D_39        0.009560       0.266602       5.000000  \n",
       "B_1         0.033234       0.153687       1.324219  \n",
       "B_2         0.813477       1.001953       1.009766  \n",
       "R_1         0.005920       0.008888       2.759766  \n",
       "S_3         0.164917       0.264893       3.994141  \n",
       "D_41        0.006012       0.008995       8.992188  \n",
       "B_3         0.010834       0.210693       1.596680  \n",
       "D_42        0.108276       0.230347       4.187500  "
      ]
     },
     "execution_count": 38,
     "metadata": {},
     "output_type": "execute_result"
    }
   ],
   "source": [
    "# Стоит обратить внимание на то, что некоторые переменные могут носитьт отрицательные значения.\n",
    "df_disr2  = df.select_dtypes(include='float16').reset_index()\n",
    "df_disr2.describe().T.head(10)"
   ]
  },
  {
   "cell_type": "markdown",
   "id": "3ef8ebe8",
   "metadata": {},
   "source": [
    "НА основе трейн_даты создадим трейн и и тест. Ибо как было сказано, у тест-данных отсутсвует таргет."
   ]
  },
  {
   "cell_type": "markdown",
   "id": "6058c96a",
   "metadata": {},
   "source": [
    "Посмотрим на распределение клиентов в рамках дат, чтобы сделать разбивку выборки"
   ]
  },
  {
   "cell_type": "code",
   "execution_count": 39,
   "id": "57cc6bcc",
   "metadata": {},
   "outputs": [
    {
     "data": {
      "text/html": [
       "<div>\n",
       "<style scoped>\n",
       "    .dataframe tbody tr th:only-of-type {\n",
       "        vertical-align: middle;\n",
       "    }\n",
       "\n",
       "    .dataframe tbody tr th {\n",
       "        vertical-align: top;\n",
       "    }\n",
       "\n",
       "    .dataframe thead th {\n",
       "        text-align: right;\n",
       "    }\n",
       "</style>\n",
       "<table border=\"1\" class=\"dataframe\">\n",
       "  <thead>\n",
       "    <tr style=\"text-align: right;\">\n",
       "      <th></th>\n",
       "      <th>S_2</th>\n",
       "      <th>0</th>\n",
       "      <th>per</th>\n",
       "    </tr>\n",
       "  </thead>\n",
       "  <tbody>\n",
       "    <tr>\n",
       "      <th>16</th>\n",
       "      <td>2018-03-01</td>\n",
       "      <td>12128</td>\n",
       "      <td>2.642767</td>\n",
       "    </tr>\n",
       "    <tr>\n",
       "      <th>17</th>\n",
       "      <td>2018-03-02</td>\n",
       "      <td>10562</td>\n",
       "      <td>2.301526</td>\n",
       "    </tr>\n",
       "    <tr>\n",
       "      <th>1</th>\n",
       "      <td>2018-03-03</td>\n",
       "      <td>22887</td>\n",
       "      <td>4.987220</td>\n",
       "    </tr>\n",
       "    <tr>\n",
       "      <th>21</th>\n",
       "      <td>2018-03-04</td>\n",
       "      <td>8918</td>\n",
       "      <td>1.943288</td>\n",
       "    </tr>\n",
       "    <tr>\n",
       "      <th>18</th>\n",
       "      <td>2018-03-05</td>\n",
       "      <td>10081</td>\n",
       "      <td>2.196713</td>\n",
       "    </tr>\n",
       "    <tr>\n",
       "      <th>19</th>\n",
       "      <td>2018-03-06</td>\n",
       "      <td>9736</td>\n",
       "      <td>2.121535</td>\n",
       "    </tr>\n",
       "    <tr>\n",
       "      <th>20</th>\n",
       "      <td>2018-03-07</td>\n",
       "      <td>9097</td>\n",
       "      <td>1.982293</td>\n",
       "    </tr>\n",
       "    <tr>\n",
       "      <th>13</th>\n",
       "      <td>2018-03-08</td>\n",
       "      <td>15581</td>\n",
       "      <td>3.395197</td>\n",
       "    </tr>\n",
       "    <tr>\n",
       "      <th>12</th>\n",
       "      <td>2018-03-09</td>\n",
       "      <td>15737</td>\n",
       "      <td>3.429190</td>\n",
       "    </tr>\n",
       "    <tr>\n",
       "      <th>2</th>\n",
       "      <td>2018-03-10</td>\n",
       "      <td>21547</td>\n",
       "      <td>4.695225</td>\n",
       "    </tr>\n",
       "    <tr>\n",
       "      <th>23</th>\n",
       "      <td>2018-03-11</td>\n",
       "      <td>8643</td>\n",
       "      <td>1.883364</td>\n",
       "    </tr>\n",
       "    <tr>\n",
       "      <th>10</th>\n",
       "      <td>2018-03-12</td>\n",
       "      <td>15916</td>\n",
       "      <td>3.468195</td>\n",
       "    </tr>\n",
       "    <tr>\n",
       "      <th>11</th>\n",
       "      <td>2018-03-13</td>\n",
       "      <td>15737</td>\n",
       "      <td>3.429190</td>\n",
       "    </tr>\n",
       "    <tr>\n",
       "      <th>14</th>\n",
       "      <td>2018-03-14</td>\n",
       "      <td>15172</td>\n",
       "      <td>3.306073</td>\n",
       "    </tr>\n",
       "    <tr>\n",
       "      <th>5</th>\n",
       "      <td>2018-03-15</td>\n",
       "      <td>16733</td>\n",
       "      <td>3.646225</td>\n",
       "    </tr>\n",
       "    <tr>\n",
       "      <th>7</th>\n",
       "      <td>2018-03-16</td>\n",
       "      <td>16395</td>\n",
       "      <td>3.572573</td>\n",
       "    </tr>\n",
       "    <tr>\n",
       "      <th>0</th>\n",
       "      <td>2018-03-17</td>\n",
       "      <td>23373</td>\n",
       "      <td>5.093122</td>\n",
       "    </tr>\n",
       "    <tr>\n",
       "      <th>24</th>\n",
       "      <td>2018-03-18</td>\n",
       "      <td>8554</td>\n",
       "      <td>1.863970</td>\n",
       "    </tr>\n",
       "    <tr>\n",
       "      <th>8</th>\n",
       "      <td>2018-03-19</td>\n",
       "      <td>16385</td>\n",
       "      <td>3.570394</td>\n",
       "    </tr>\n",
       "    <tr>\n",
       "      <th>4</th>\n",
       "      <td>2018-03-20</td>\n",
       "      <td>18567</td>\n",
       "      <td>4.045865</td>\n",
       "    </tr>\n",
       "    <tr>\n",
       "      <th>6</th>\n",
       "      <td>2018-03-21</td>\n",
       "      <td>16478</td>\n",
       "      <td>3.590659</td>\n",
       "    </tr>\n",
       "    <tr>\n",
       "      <th>15</th>\n",
       "      <td>2018-03-22</td>\n",
       "      <td>14146</td>\n",
       "      <td>3.082501</td>\n",
       "    </tr>\n",
       "    <tr>\n",
       "      <th>9</th>\n",
       "      <td>2018-03-23</td>\n",
       "      <td>16325</td>\n",
       "      <td>3.557319</td>\n",
       "    </tr>\n",
       "    <tr>\n",
       "      <th>3</th>\n",
       "      <td>2018-03-24</td>\n",
       "      <td>21156</td>\n",
       "      <td>4.610024</td>\n",
       "    </tr>\n",
       "    <tr>\n",
       "      <th>22</th>\n",
       "      <td>2018-03-25</td>\n",
       "      <td>8856</td>\n",
       "      <td>1.929778</td>\n",
       "    </tr>\n",
       "  </tbody>\n",
       "</table>\n",
       "</div>"
      ],
      "text/plain": [
       "          S_2      0       per\n",
       "16 2018-03-01  12128  2.642767\n",
       "17 2018-03-02  10562  2.301526\n",
       "1  2018-03-03  22887  4.987220\n",
       "21 2018-03-04   8918  1.943288\n",
       "18 2018-03-05  10081  2.196713\n",
       "19 2018-03-06   9736  2.121535\n",
       "20 2018-03-07   9097  1.982293\n",
       "13 2018-03-08  15581  3.395197\n",
       "12 2018-03-09  15737  3.429190\n",
       "2  2018-03-10  21547  4.695225\n",
       "23 2018-03-11   8643  1.883364\n",
       "10 2018-03-12  15916  3.468195\n",
       "11 2018-03-13  15737  3.429190\n",
       "14 2018-03-14  15172  3.306073\n",
       "5  2018-03-15  16733  3.646225\n",
       "7  2018-03-16  16395  3.572573\n",
       "0  2018-03-17  23373  5.093122\n",
       "24 2018-03-18   8554  1.863970\n",
       "8  2018-03-19  16385  3.570394\n",
       "4  2018-03-20  18567  4.045865\n",
       "6  2018-03-21  16478  3.590659\n",
       "15 2018-03-22  14146  3.082501\n",
       "9  2018-03-23  16325  3.557319\n",
       "3  2018-03-24  21156  4.610024\n",
       "22 2018-03-25   8856  1.929778"
      ]
     },
     "execution_count": 39,
     "metadata": {},
     "output_type": "execute_result"
    }
   ],
   "source": [
    "dt_time = pd.DataFrame(df_t[['S_2']].value_counts().reset_index()).sort_values(by = 'S_2')\n",
    "dt_time['per'] = dt_time[0]/df.shape[0]*100\n",
    "dt_time"
   ]
  },
  {
   "cell_type": "markdown",
   "id": "dc338a23",
   "metadata": {},
   "source": [
    "Таким образом видно, какая доля наблюдений приходится на каждую дату. Итого, \n",
    "примерено после 2018-03-18 можно определять данные как тест. Это примерно чуть больше 25%"
   ]
  },
  {
   "cell_type": "code",
   "execution_count": 40,
   "id": "715ebbf5",
   "metadata": {},
   "outputs": [],
   "source": [
    "# Перерведем категориальные переменные в дамми переменные."
   ]
  },
  {
   "cell_type": "code",
   "execution_count": 41,
   "id": "0c1d9070",
   "metadata": {},
   "outputs": [],
   "source": [
    "df_disr  = df.select_dtypes(include='category').reset_index()\n",
    "df_disr = df_disr.drop(columns=['D_66'], axis =1)\n",
    "df_m = pd.get_dummies(df_disr).reset_index()\n",
    "df_int = df.select_dtypes(include=['float16','int','datetime64']).reset_index()\n",
    "df_new = df_int.merge(df_m,on=('index'), how ='left')"
   ]
  },
  {
   "cell_type": "code",
   "execution_count": 42,
   "id": "258f514f",
   "metadata": {},
   "outputs": [
    {
     "data": {
      "text/plain": [
       "Index(['D_87', 'D_88', 'D_108', 'D_111', 'D_110', 'B_39', 'D_73', 'B_42',\n",
       "       'D_136', 'D_134', 'D_137', 'D_138', 'D_135', 'R_9', 'B_29', 'D_76',\n",
       "       'R_26', 'D_106', 'D_132', 'D_49', 'D_66', 'D_42', 'D_142', 'D_82',\n",
       "       'D_53', 'D_50', 'D_105', 'D_56', 'B_17', 'D_77', 'S_9', 'D_43', 'S_27'],\n",
       "      dtype='object')"
      ]
     },
     "execution_count": 42,
     "metadata": {},
     "output_type": "execute_result"
    }
   ],
   "source": [
    "null.query('null >25').T.columns# определим и исключим из трейн переменные  у которых больше 25% пропусков."
   ]
  },
  {
   "cell_type": "code",
   "execution_count": 43,
   "id": "f93ee56b",
   "metadata": {},
   "outputs": [],
   "source": [
    "df_new = df_int.merge(df_m,on=('index'), how ='left')\n",
    "df_new = df_new.drop(columns = ['D_87', 'D_88', 'D_108', 'D_111', 'D_110', 'B_39', 'D_73', 'B_42',\n",
    "       'D_134', 'D_135', 'D_136', 'D_137', 'D_138', 'R_9', 'B_29', 'D_76',\n",
    "       'R_26', 'D_106', 'D_132', 'D_49', 'D_42', 'D_142', 'D_82',\n",
    "       'D_53', 'D_50', 'D_105', 'D_56', 'B_17', 'D_77', 'S_9', 'D_43', 'S_27'],axis =1)\n",
    "df_new_train = df_new.fillna(df_new.median())# меняем на медиану, все оставшиеся пропуска."
   ]
  },
  {
   "cell_type": "code",
   "execution_count": 751,
   "id": "1514bcbf",
   "metadata": {},
   "outputs": [],
   "source": [
    "#df_new_train = df_new_train[[\n",
    "#'target', 'D_48', 'B_9', 'D_61', 'D_55', 'D_44', 'B_3', 'B_7', 'D_75',\n",
    "     #  'D_58', 'B_23', 'R_1', 'B_16', 'B_4', 'D_74', 'B_20', 'B_19', 'B_1',\n",
    "       #'B_37', 'B_11', 'R_2', 'B_22', 'B_30_1.0', 'D_41', 'S_7', 'R_4', 'D_78',\n",
    "      # 'S_3', 'D_39', 'D_70'\n",
    "#]]"
   ]
  },
  {
   "cell_type": "code",
   "execution_count": 44,
   "id": "32c274df",
   "metadata": {},
   "outputs": [
    {
     "data": {
      "text/html": [
       "<div>\n",
       "<style scoped>\n",
       "    .dataframe tbody tr th:only-of-type {\n",
       "        vertical-align: middle;\n",
       "    }\n",
       "\n",
       "    .dataframe tbody tr th {\n",
       "        vertical-align: top;\n",
       "    }\n",
       "\n",
       "    .dataframe thead th {\n",
       "        text-align: right;\n",
       "    }\n",
       "</style>\n",
       "<table border=\"1\" class=\"dataframe\">\n",
       "  <thead>\n",
       "    <tr style=\"text-align: right;\">\n",
       "      <th></th>\n",
       "      <th>index</th>\n",
       "      <th>target</th>\n",
       "    </tr>\n",
       "  </thead>\n",
       "  <tbody>\n",
       "    <tr>\n",
       "      <th>0</th>\n",
       "      <td>target</td>\n",
       "      <td>1.000000</td>\n",
       "    </tr>\n",
       "    <tr>\n",
       "      <th>1</th>\n",
       "      <td>index</td>\n",
       "      <td>0.597316</td>\n",
       "    </tr>\n",
       "    <tr>\n",
       "      <th>2</th>\n",
       "      <td>nn</td>\n",
       "      <td>0.597316</td>\n",
       "    </tr>\n",
       "    <tr>\n",
       "      <th>3</th>\n",
       "      <td>level_0</td>\n",
       "      <td>0.597316</td>\n",
       "    </tr>\n",
       "    <tr>\n",
       "      <th>4</th>\n",
       "      <td>D_48</td>\n",
       "      <td>0.262448</td>\n",
       "    </tr>\n",
       "    <tr>\n",
       "      <th>5</th>\n",
       "      <td>B_9</td>\n",
       "      <td>0.235837</td>\n",
       "    </tr>\n",
       "    <tr>\n",
       "      <th>6</th>\n",
       "      <td>D_55</td>\n",
       "      <td>0.233631</td>\n",
       "    </tr>\n",
       "    <tr>\n",
       "      <th>7</th>\n",
       "      <td>D_61</td>\n",
       "      <td>0.233162</td>\n",
       "    </tr>\n",
       "    <tr>\n",
       "      <th>8</th>\n",
       "      <td>D_44</td>\n",
       "      <td>0.228920</td>\n",
       "    </tr>\n",
       "    <tr>\n",
       "      <th>9</th>\n",
       "      <td>D_58</td>\n",
       "      <td>0.223547</td>\n",
       "    </tr>\n",
       "    <tr>\n",
       "      <th>10</th>\n",
       "      <td>D_75</td>\n",
       "      <td>0.223386</td>\n",
       "    </tr>\n",
       "    <tr>\n",
       "      <th>11</th>\n",
       "      <td>B_3</td>\n",
       "      <td>0.222877</td>\n",
       "    </tr>\n",
       "  </tbody>\n",
       "</table>\n",
       "</div>"
      ],
      "text/plain": [
       "      index    target\n",
       "0    target  1.000000\n",
       "1     index  0.597316\n",
       "2        nn  0.597316\n",
       "3   level_0  0.597316\n",
       "4      D_48  0.262448\n",
       "5       B_9  0.235837\n",
       "6      D_55  0.233631\n",
       "7      D_61  0.233162\n",
       "8      D_44  0.228920\n",
       "9      D_58  0.223547\n",
       "10     D_75  0.223386\n",
       "11      B_3  0.222877"
      ]
     },
     "execution_count": 44,
     "metadata": {},
     "output_type": "execute_result"
    }
   ],
   "source": [
    "# Посмотри на признаки с максимальной корреляций на таргет\n",
    "pd.DataFrame(df_new_train.corr()['target'].sort_values(ascending = False).head(12)).reset_index()"
   ]
  },
  {
   "cell_type": "code",
   "execution_count": 429,
   "id": "c0e790d1",
   "metadata": {},
   "outputs": [],
   "source": [
    "#pd.DataFrame(df_new_train.corr()['target'].sort_values(ascending = False).head(30)).T.columns"
   ]
  },
  {
   "cell_type": "code",
   "execution_count": 45,
   "id": "07deb2fb",
   "metadata": {},
   "outputs": [],
   "source": [
    "# разделяем модель на обучающую и валидационную выборку метод train_test_split не поможет\n",
    "X_train_base  = df_new_train.query('target ==2')\n",
    "# разделим наши данные на признаки (матрица X) и целевую переменную (y)\n",
    "X_train  = df_new_train.query('S_2 > \"2018-03-18\" and target !=2').drop(['index','target','nn','S_2'],1)\n",
    "X_test = df_new_train.query('S_2 <= \"2018-03-18\" and target !=2').drop(['index','target','nn','S_2'],1)\n",
    "\n",
    "X = df_new_train.query('S_2 > \"2018-03-18\" and target !=2').drop(['index','target','nn','S_2'],1)\n",
    "Y = df_new_train.query('S_2 <= \"2018-03-18\" and target !=2').drop(['index','target','nn','S_2'],1)\n",
    "\n",
    "y_train = df_new_train.query('S_2 > \"2018-03-18\" and target !=2')[['target']]\n",
    "y_test = df_new_train.query('S_2 <= \"2018-03-18\" and target !=2')[['target']]\n",
    "\n",
    "\n",
    "# стандартизируем данные\n",
    "scaler = StandardScaler()\n",
    "X_train = scaler.fit_transform(X_train)\n",
    "X_test = scaler.transform(X_test)"
   ]
  },
  {
   "cell_type": "code",
   "execution_count": 46,
   "id": "53054045",
   "metadata": {},
   "outputs": [
    {
     "name": "stdout",
     "output_type": "stream",
     "text": [
      "Accuracy: 0.88\n",
      "Precision: 0.71\n",
      "Recall: 0.90\n",
      "F1: 0.80\n",
      "ROC_AUC: 0.89\n"
     ]
    }
   ],
   "source": [
    "# зададим алгоритм для нашей модели\n",
    "model = LogisticRegression(solver='liblinear',class_weight='balanced', random_state = 42)\n",
    "\n",
    "# обучим модель\n",
    "model.fit(X_train, y_train)\n",
    "\n",
    "# воспользуемся уже обученной моделью, чтобы сделать прогнозы\n",
    "probabilities = model.predict_proba(X_test)[:,1]\n",
    "\n",
    "# бинарный прогноз\n",
    "predictions = model.predict(X_test)\n",
    "\n",
    "# выведите  метрики для полученного прогноза\n",
    "print('Accuracy: {:.2f}'.format(accuracy_score(y_test, predictions)))\n",
    "print('Precision: {:.2f}'.format(precision_score (y_test, predictions)))\n",
    "print('Recall: {:.2f}'.format(recall_score (y_test, predictions)))\n",
    "print('F1: {:.2f}'.format(f1_score(y_test, predictions)))\n",
    "print('ROC_AUC: {:.2f}'.format(roc_auc_score(y_test, predictions)))"
   ]
  },
  {
   "cell_type": "markdown",
   "id": "29542218",
   "metadata": {},
   "source": [
    "НА уровне простой логистической регресии у нас, roc 89%. Дооубучим модель"
   ]
  },
  {
   "cell_type": "code",
   "execution_count": 485,
   "id": "4beb0888",
   "metadata": {},
   "outputs": [
    {
     "name": "stdout",
     "output_type": "stream",
     "text": [
      "LogisticRegression(C=0.005623413251903491, random_state=42)\n"
     ]
    }
   ],
   "source": [
    "param_grid = {'C': np.logspace(-3, 3, 25),\n",
    "'penalty': ['l1', 'l2']}\n",
    "\n",
    "model = GridSearchCV(LogisticRegression(random_state = 42), param_grid, cv = 5, verbose = 0, n_jobs = -1,scoring='roc_auc')\n",
    "\n",
    "model = model.fit(X_train, y_train)\n",
    "print(model.best_estimator_)"
   ]
  },
  {
   "cell_type": "code",
   "execution_count": 47,
   "id": "fc25daa5",
   "metadata": {},
   "outputs": [
    {
     "name": "stdout",
     "output_type": "stream",
     "text": [
      "Accuracy: 0.88\n",
      "Precision: 0.71\n",
      "Recall: 0.90\n",
      "F1: 0.80\n",
      "ROC_AUC: 0.89\n"
     ]
    }
   ],
   "source": [
    "# зададим алгоритм для нашей модели\n",
    "model = LogisticRegression(solver='liblinear',class_weight='balanced',C=0.005623413251903491, random_state = 42)\n",
    "\n",
    "# обучим модель\n",
    "model.fit(X_train, y_train)\n",
    "\n",
    "# воспользуемся уже обученной моделью, чтобы сделать прогнозы\n",
    "probabilities = model.predict_proba(X_test)[:,1]\n",
    "\n",
    "# бинарный прогноз\n",
    "predictions = model.predict(X_test)\n",
    "\n",
    "# выведите  метрики для полученного прогноза\n",
    "print('Accuracy: {:.2f}'.format(accuracy_score(y_test, predictions)))\n",
    "print('Precision: {:.2f}'.format(precision_score (y_test, predictions)))\n",
    "print('Recall: {:.2f}'.format(recall_score (y_test, predictions)))\n",
    "print('F1: {:.2f}'.format(f1_score(y_test, predictions)))\n",
    "print('ROC_AUC: {:.2f}'.format(roc_auc_score(y_test, predictions)))"
   ]
  },
  {
   "cell_type": "markdown",
   "id": "f83c7653",
   "metadata": {},
   "source": [
    "После обучения модель не стала сиильно лучше."
   ]
  },
  {
   "cell_type": "markdown",
   "id": "c164631b",
   "metadata": {},
   "source": [
    "Посмотрим как выгддит площадт под кривой"
   ]
  },
  {
   "cell_type": "code",
   "execution_count": 48,
   "id": "ed4b0cce",
   "metadata": {},
   "outputs": [
    {
     "data": {
      "image/png": "[encoded data removed]",
      "text/plain": [
       "<Figure size 1000x500 with 1 Axes>"
      ]
     },
     "metadata": {},
     "output_type": "display_data"
    }
   ],
   "source": [
    "y_pred_proba = model.predict_proba(X_test)[::,1]\n",
    "fpr, tpr, _ = metrics.roc_curve(y_test, y_pred_proba)\n",
    "rcParams['figure.figsize'] = 10,5\n",
    "#create ROC curve\n",
    "plt.plot (fpr,tpr)\n",
    "plt.ylabel('True Positive Rate')\n",
    "plt.xlabel('False Positive Rate')\n",
    "plt.show() "
   ]
  },
  {
   "cell_type": "markdown",
   "id": "30b96a58",
   "metadata": {},
   "source": [
    "### ТОР -10 самых сильных фичей"
   ]
  },
  {
   "cell_type": "code",
   "execution_count": 49,
   "id": "6ab62235",
   "metadata": {},
   "outputs": [
    {
     "data": {
      "text/html": [
       "<div>\n",
       "<style scoped>\n",
       "    .dataframe tbody tr th:only-of-type {\n",
       "        vertical-align: middle;\n",
       "    }\n",
       "\n",
       "    .dataframe tbody tr th {\n",
       "        vertical-align: top;\n",
       "    }\n",
       "\n",
       "    .dataframe thead th {\n",
       "        text-align: right;\n",
       "    }\n",
       "</style>\n",
       "<table border=\"1\" class=\"dataframe\">\n",
       "  <thead>\n",
       "    <tr style=\"text-align: right;\">\n",
       "      <th></th>\n",
       "      <th>Feature</th>\n",
       "      <th>Importance</th>\n",
       "    </tr>\n",
       "  </thead>\n",
       "  <tbody>\n",
       "    <tr>\n",
       "      <th>0</th>\n",
       "      <td>P_2</td>\n",
       "      <td>0.906426</td>\n",
       "    </tr>\n",
       "    <tr>\n",
       "      <th>9</th>\n",
       "      <td>B_4</td>\n",
       "      <td>0.368075</td>\n",
       "    </tr>\n",
       "    <tr>\n",
       "      <th>1</th>\n",
       "      <td>D_39</td>\n",
       "      <td>0.339535</td>\n",
       "    </tr>\n",
       "    <tr>\n",
       "      <th>7</th>\n",
       "      <td>B_3</td>\n",
       "      <td>0.249614</td>\n",
       "    </tr>\n",
       "    <tr>\n",
       "      <th>19</th>\n",
       "      <td>D_51</td>\n",
       "      <td>0.239723</td>\n",
       "    </tr>\n",
       "    <tr>\n",
       "      <th>21</th>\n",
       "      <td>R_3</td>\n",
       "      <td>0.236456</td>\n",
       "    </tr>\n",
       "    <tr>\n",
       "      <th>3</th>\n",
       "      <td>B_2</td>\n",
       "      <td>0.218958</td>\n",
       "    </tr>\n",
       "    <tr>\n",
       "      <th>6</th>\n",
       "      <td>D_41</td>\n",
       "      <td>0.204317</td>\n",
       "    </tr>\n",
       "    <tr>\n",
       "      <th>78</th>\n",
       "      <td>B_28</td>\n",
       "      <td>0.203323</td>\n",
       "    </tr>\n",
       "    <tr>\n",
       "      <th>136</th>\n",
       "      <td>D_131</td>\n",
       "      <td>0.199225</td>\n",
       "    </tr>\n",
       "  </tbody>\n",
       "</table>\n",
       "</div>"
      ],
      "text/plain": [
       "    Feature  Importance\n",
       "0       P_2    0.906426\n",
       "9       B_4    0.368075\n",
       "1      D_39    0.339535\n",
       "7       B_3    0.249614\n",
       "19     D_51    0.239723\n",
       "21      R_3    0.236456\n",
       "3       B_2    0.218958\n",
       "6      D_41    0.204317\n",
       "78     B_28    0.203323\n",
       "136   D_131    0.199225"
      ]
     },
     "execution_count": 49,
     "metadata": {},
     "output_type": "execute_result"
    }
   ],
   "source": [
    "coefficients = model.coef_[0]\n",
    "\n",
    "feature_importance = pd.DataFrame({'Feature': X.columns, 'Importance': np.abs(coefficients)})\n",
    "feature_importance = feature_importance.sort_values('Importance', ascending=False)\n",
    "feature_importance.head(10)"
   ]
  },
  {
   "cell_type": "code",
   "execution_count": 52,
   "id": "a8b64bb9",
   "metadata": {},
   "outputs": [
    {
     "name": "stdout",
     "output_type": "stream",
     "text": [
      "Accuracy: 0.89\n",
      "Precision: 0.81\n",
      "Recall: 0.78\n",
      "F1: 0.79\n",
      "ROC_AUC: 0.86\n"
     ]
    }
   ],
   "source": [
    "# зададим алгоритм для нашей модели\n",
    "model2 = GradientBoostingClassifier(n_estimators=1000, learning_rate=1.0, max_depth=1, random_state=42)\n",
    "\n",
    "# обучим модель\n",
    "model2.fit(X_train, y_train)\n",
    "\n",
    "# воспользуемся уже обученной моделью, чтобы сделать прогнозы\n",
    "probabilities = model2.predict_proba(X_test)[:,1]\n",
    "\n",
    "# бинарный прогноз\n",
    "predictions = model2.predict(X_test)\n",
    "\n",
    "# выведите все изученные метрики для полученного прогноза\n",
    "print('Accuracy: {:.2f}'.format(accuracy_score(y_test, predictions)))\n",
    "print('Precision: {:.2f}'.format(precision_score (y_test, predictions)))\n",
    "print('Recall: {:.2f}'.format(recall_score (y_test, predictions)))\n",
    "print('F1: {:.2f}'.format(f1_score(y_test, predictions)))\n",
    "print('ROC_AUC: {:.2f}'.format(roc_auc_score(y_test, predictions)))"
   ]
  },
  {
   "cell_type": "markdown",
   "id": "3a78cb98",
   "metadata": {},
   "source": [
    "Градиентный бустинг на 1000 деревьев не делает модель лучше"
   ]
  },
  {
   "cell_type": "code",
   "execution_count": 53,
   "id": "d04f6e09",
   "metadata": {},
   "outputs": [
    {
     "data": {
      "text/html": [
       "<div>\n",
       "<style scoped>\n",
       "    .dataframe tbody tr th:only-of-type {\n",
       "        vertical-align: middle;\n",
       "    }\n",
       "\n",
       "    .dataframe tbody tr th {\n",
       "        vertical-align: top;\n",
       "    }\n",
       "\n",
       "    .dataframe thead th {\n",
       "        text-align: right;\n",
       "    }\n",
       "</style>\n",
       "<table border=\"1\" class=\"dataframe\">\n",
       "  <thead>\n",
       "    <tr style=\"text-align: right;\">\n",
       "      <th></th>\n",
       "      <th>feature</th>\n",
       "      <th>importance</th>\n",
       "    </tr>\n",
       "  </thead>\n",
       "  <tbody>\n",
       "    <tr>\n",
       "      <th>0</th>\n",
       "      <td>P_2</td>\n",
       "      <td>0.737743</td>\n",
       "    </tr>\n",
       "    <tr>\n",
       "      <th>3</th>\n",
       "      <td>B_2</td>\n",
       "      <td>0.080498</td>\n",
       "    </tr>\n",
       "    <tr>\n",
       "      <th>12</th>\n",
       "      <td>R_2</td>\n",
       "      <td>0.028600</td>\n",
       "    </tr>\n",
       "    <tr>\n",
       "      <th>9</th>\n",
       "      <td>B_4</td>\n",
       "      <td>0.019060</td>\n",
       "    </tr>\n",
       "    <tr>\n",
       "      <th>5</th>\n",
       "      <td>S_3</td>\n",
       "      <td>0.015858</td>\n",
       "    </tr>\n",
       "    <tr>\n",
       "      <th>21</th>\n",
       "      <td>R_3</td>\n",
       "      <td>0.015368</td>\n",
       "    </tr>\n",
       "    <tr>\n",
       "      <th>6</th>\n",
       "      <td>D_41</td>\n",
       "      <td>0.014226</td>\n",
       "    </tr>\n",
       "    <tr>\n",
       "      <th>10</th>\n",
       "      <td>D_45</td>\n",
       "      <td>0.010620</td>\n",
       "    </tr>\n",
       "    <tr>\n",
       "      <th>117</th>\n",
       "      <td>B_37</td>\n",
       "      <td>0.007835</td>\n",
       "    </tr>\n",
       "    <tr>\n",
       "      <th>136</th>\n",
       "      <td>D_131</td>\n",
       "      <td>0.005719</td>\n",
       "    </tr>\n",
       "  </tbody>\n",
       "</table>\n",
       "</div>"
      ],
      "text/plain": [
       "    feature  importance\n",
       "0       P_2    0.737743\n",
       "3       B_2    0.080498\n",
       "12      R_2    0.028600\n",
       "9       B_4    0.019060\n",
       "5       S_3    0.015858\n",
       "21      R_3    0.015368\n",
       "6      D_41    0.014226\n",
       "10     D_45    0.010620\n",
       "117    B_37    0.007835\n",
       "136   D_131    0.005719"
      ]
     },
     "execution_count": 53,
     "metadata": {},
     "output_type": "execute_result"
    }
   ],
   "source": [
    "fi_df = pd.DataFrame(data={'feature': X.columns, 'importance': model2.feature_importances_})\n",
    "grad_per = (fi_df.sort_values('importance', ascending=False).head(10))\n",
    "grad_per"
   ]
  },
  {
   "cell_type": "code",
   "execution_count": null,
   "id": "5fc1e233",
   "metadata": {},
   "outputs": [],
   "source": [
    "Создадим прогноз по финальной модели"
   ]
  },
  {
   "cell_type": "code",
   "execution_count": 54,
   "id": "22cdf7fd",
   "metadata": {},
   "outputs": [],
   "source": [
    "X_train_base2 = X_train_base.query('target ==2').drop(['index','target','nn','S_2'],1)\n",
    "X_train_base2 = scaler.transform(X_train_base2)\n",
    "nn = pd.DataFrame(X_train_base['nn']).reset_index()\n",
    "prog = pd.DataFrame(model.predict_proba(X_train_base2)[:,1])"
   ]
  },
  {
   "cell_type": "code",
   "execution_count": 55,
   "id": "39ea3cf7",
   "metadata": {},
   "outputs": [
    {
     "data": {
      "text/html": [
       "<div>\n",
       "<style scoped>\n",
       "    .dataframe tbody tr th:only-of-type {\n",
       "        vertical-align: middle;\n",
       "    }\n",
       "\n",
       "    .dataframe tbody tr th {\n",
       "        vertical-align: top;\n",
       "    }\n",
       "\n",
       "    .dataframe thead th {\n",
       "        text-align: right;\n",
       "    }\n",
       "</style>\n",
       "<table border=\"1\" class=\"dataframe\">\n",
       "  <thead>\n",
       "    <tr style=\"text-align: right;\">\n",
       "      <th></th>\n",
       "      <th>0</th>\n",
       "      <th>customer_ID</th>\n",
       "    </tr>\n",
       "  </thead>\n",
       "  <tbody>\n",
       "    <tr>\n",
       "      <th>0</th>\n",
       "      <td>0.999998</td>\n",
       "      <td>000041bdba6ecadd89a52d11886e8eaaec9325906c9723...</td>\n",
       "    </tr>\n",
       "    <tr>\n",
       "      <th>1</th>\n",
       "      <td>0.999997</td>\n",
       "      <td>00007889e4fcd2614b6cbe7f8f3d2e5c728eca32d9eb8a...</td>\n",
       "    </tr>\n",
       "    <tr>\n",
       "      <th>2</th>\n",
       "      <td>0.999984</td>\n",
       "      <td>00018dd4932409baf6083519b52113c2ef58be59e1213e...</td>\n",
       "    </tr>\n",
       "    <tr>\n",
       "      <th>3</th>\n",
       "      <td>1.000000</td>\n",
       "      <td>000198b3dc70edd65dbf0d7eddbcb926c6d7dbd7986af1...</td>\n",
       "    </tr>\n",
       "    <tr>\n",
       "      <th>4</th>\n",
       "      <td>0.999998</td>\n",
       "      <td>00031e8be98bc3411f6037cbd4d3eeaf24b3ae221682b7...</td>\n",
       "    </tr>\n",
       "    <tr>\n",
       "      <th>...</th>\n",
       "      <td>...</td>\n",
       "      <td>...</td>\n",
       "    </tr>\n",
       "    <tr>\n",
       "      <th>90198</th>\n",
       "      <td>0.999995</td>\n",
       "      <td>fffc59f2e1aa4de05de451121a35c26c61e63cfc38328a...</td>\n",
       "    </tr>\n",
       "    <tr>\n",
       "      <th>90199</th>\n",
       "      <td>0.999997</td>\n",
       "      <td>fffd1a37da07c54a930788ab53061cd7bd34d38592205e...</td>\n",
       "    </tr>\n",
       "    <tr>\n",
       "      <th>90200</th>\n",
       "      <td>0.999958</td>\n",
       "      <td>fffdc0cf228085b4275b38ebe6eb915766af3fecb2ae28...</td>\n",
       "    </tr>\n",
       "    <tr>\n",
       "      <th>90201</th>\n",
       "      <td>1.000000</td>\n",
       "      <td>fffe39594fad367d9eb8ae18537b56b0739c4cc3ab9810...</td>\n",
       "    </tr>\n",
       "    <tr>\n",
       "      <th>90202</th>\n",
       "      <td>0.999998</td>\n",
       "      <td>ffff41c8a52833b56430603969b9ca48d208e7c192c6a4...</td>\n",
       "    </tr>\n",
       "  </tbody>\n",
       "</table>\n",
       "<p>90203 rows × 2 columns</p>\n",
       "</div>"
      ],
      "text/plain": [
       "              0                                        customer_ID\n",
       "0      0.999998  000041bdba6ecadd89a52d11886e8eaaec9325906c9723...\n",
       "1      0.999997  00007889e4fcd2614b6cbe7f8f3d2e5c728eca32d9eb8a...\n",
       "2      0.999984  00018dd4932409baf6083519b52113c2ef58be59e1213e...\n",
       "3      1.000000  000198b3dc70edd65dbf0d7eddbcb926c6d7dbd7986af1...\n",
       "4      0.999998  00031e8be98bc3411f6037cbd4d3eeaf24b3ae221682b7...\n",
       "...         ...                                                ...\n",
       "90198  0.999995  fffc59f2e1aa4de05de451121a35c26c61e63cfc38328a...\n",
       "90199  0.999997  fffd1a37da07c54a930788ab53061cd7bd34d38592205e...\n",
       "90200  0.999958  fffdc0cf228085b4275b38ebe6eb915766af3fecb2ae28...\n",
       "90201  1.000000  fffe39594fad367d9eb8ae18537b56b0739c4cc3ab9810...\n",
       "90202  0.999998  ffff41c8a52833b56430603969b9ca48d208e7c192c6a4...\n",
       "\n",
       "[90203 rows x 2 columns]"
      ]
     },
     "execution_count": 55,
     "metadata": {},
     "output_type": "execute_result"
    }
   ],
   "source": [
    "doc_cus_prog = nn.merge(prog, left_index=True, right_index=True).merge(df_cus.query('target ==2'),on = ['nn'])[[0,'customer_ID']]\n",
    "doc_cus_prog"
   ]
  },
  {
   "cell_type": "code",
   "execution_count": 869,
   "id": "890bf467",
   "metadata": {},
   "outputs": [],
   "source": [
    "#doc_cus_prog.to_excel(\"submission.xlsx\")"
   ]
  }
 ],
 "metadata": {
  "kernelspec": {
   "display_name": "Python 3 (ipykernel)",
   "language": "python",
   "name": "python3"
  },
  "language_info": {
   "codemirror_mode": {
    "name": "ipython",
    "version": 3
   },
   "file_extension": ".py",
   "mimetype": "text/x-python",
   "name": "python",
   "nbconvert_exporter": "python",
   "pygments_lexer": "ipython3",
   "version": "3.10.9"
  }
 },
 "nbformat": 4,
 "nbformat_minor": 5
}
